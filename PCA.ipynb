{
 "cells": [
  {
   "cell_type": "markdown",
   "id": "4123075d-c8e3-4b32-b25b-cf87cab10d5c",
   "metadata": {},
   "source": [
    "Name: Raghav Sharma<br>\n",
    "Roll no: 25201313"
   ]
  },
  {
   "cell_type": "code",
   "execution_count": 2,
   "id": "ddddb515-3e87-4b0c-bbd9-45a28452e738",
   "metadata": {},
   "outputs": [],
   "source": [
    "import numpy as np\n",
    "import pandas as pd\n",
    "from numpy.linalg import eig, inv"
   ]
  },
  {
   "cell_type": "code",
   "execution_count": 3,
   "id": "7bcfbaf0-de60-401b-9ca5-93f2f2edb669",
   "metadata": {},
   "outputs": [],
   "source": [
    "data = pd.DataFrame({\n",
    "'infection': ['viral','viral','viral','bacterial','bacterial','bacterial'],\n",
    "'CRP': [20, 25, 30, 100, 110, 95],\n",
    "'Temp': [37.2, 37.5, 38.0, 39.0, 39.5, 40.0]\n",
    "})"
   ]
  },
  {
   "cell_type": "code",
   "execution_count": 4,
   "id": "13003232-93c6-47dd-8d5e-5eb3ee44e1ba",
   "metadata": {},
   "outputs": [
    {
     "data": {
      "text/html": [
       "<div>\n",
       "<style scoped>\n",
       "    .dataframe tbody tr th:only-of-type {\n",
       "        vertical-align: middle;\n",
       "    }\n",
       "\n",
       "    .dataframe tbody tr th {\n",
       "        vertical-align: top;\n",
       "    }\n",
       "\n",
       "    .dataframe thead th {\n",
       "        text-align: right;\n",
       "    }\n",
       "</style>\n",
       "<table border=\"1\" class=\"dataframe\">\n",
       "  <thead>\n",
       "    <tr style=\"text-align: right;\">\n",
       "      <th></th>\n",
       "      <th>infection</th>\n",
       "      <th>CRP</th>\n",
       "      <th>Temp</th>\n",
       "    </tr>\n",
       "  </thead>\n",
       "  <tbody>\n",
       "    <tr>\n",
       "      <th>0</th>\n",
       "      <td>viral</td>\n",
       "      <td>20</td>\n",
       "      <td>37.2</td>\n",
       "    </tr>\n",
       "    <tr>\n",
       "      <th>1</th>\n",
       "      <td>viral</td>\n",
       "      <td>25</td>\n",
       "      <td>37.5</td>\n",
       "    </tr>\n",
       "    <tr>\n",
       "      <th>2</th>\n",
       "      <td>viral</td>\n",
       "      <td>30</td>\n",
       "      <td>38.0</td>\n",
       "    </tr>\n",
       "    <tr>\n",
       "      <th>3</th>\n",
       "      <td>bacterial</td>\n",
       "      <td>100</td>\n",
       "      <td>39.0</td>\n",
       "    </tr>\n",
       "    <tr>\n",
       "      <th>4</th>\n",
       "      <td>bacterial</td>\n",
       "      <td>110</td>\n",
       "      <td>39.5</td>\n",
       "    </tr>\n",
       "    <tr>\n",
       "      <th>5</th>\n",
       "      <td>bacterial</td>\n",
       "      <td>95</td>\n",
       "      <td>40.0</td>\n",
       "    </tr>\n",
       "  </tbody>\n",
       "</table>\n",
       "</div>"
      ],
      "text/plain": [
       "   infection  CRP  Temp\n",
       "0      viral   20  37.2\n",
       "1      viral   25  37.5\n",
       "2      viral   30  38.0\n",
       "3  bacterial  100  39.0\n",
       "4  bacterial  110  39.5\n",
       "5  bacterial   95  40.0"
      ]
     },
     "execution_count": 4,
     "metadata": {},
     "output_type": "execute_result"
    }
   ],
   "source": [
    "data"
   ]
  },
  {
   "cell_type": "code",
   "execution_count": 5,
   "id": "c3208d39-d97f-4b88-931a-0b9a17019382",
   "metadata": {},
   "outputs": [],
   "source": [
    "means = data[['CRP','Temp']].mean()\n",
    "stds = data[['CRP','Temp']].std(ddof=1)\n",
    "data['zCRP'] = (data['CRP'] - means['CRP']) / stds['CRP']\n",
    "data['zTemp'] = (data['Temp'] - means['Temp']) / stds['Temp']"
   ]
  },
  {
   "cell_type": "code",
   "execution_count": 6,
   "id": "375c9ed3-24d6-42e7-8f02-684cc69eef66",
   "metadata": {},
   "outputs": [],
   "source": [
    "virus = data[data['infection']=='viral'][['CRP','Temp']].to_numpy()\n",
    "bact = data[data['infection']=='bacterial'][['CRP','Temp']].to_numpy()"
   ]
  },
  {
   "cell_type": "code",
   "execution_count": 7,
   "id": "08cbdc67-7b2a-4d86-bd5e-8cb707006f48",
   "metadata": {},
   "outputs": [],
   "source": [
    "cov_v = np.cov(virus.T)\n",
    "cov_b = np.cov(bact.T)"
   ]
  },
  {
   "cell_type": "code",
   "execution_count": 8,
   "id": "c62a0c2d-8e16-460c-927e-c25c143f5a88",
   "metadata": {},
   "outputs": [],
   "source": [
    "n1, n2 = len(virus), len(bact)"
   ]
  },
  {
   "cell_type": "code",
   "execution_count": 9,
   "id": "2f834013-9569-46fa-98f7-07121ae0a2a4",
   "metadata": {},
   "outputs": [],
   "source": [
    "W = (((n1-1)*cov_v) + ((n2-1)*cov_b)) / (n1+n2-2)"
   ]
  },
  {
   "cell_type": "code",
   "execution_count": 10,
   "id": "53e566de-e010-42d1-a4e4-381aae04eee9",
   "metadata": {},
   "outputs": [],
   "source": [
    "all_vals = data[['CRP','Temp']].to_numpy()\n",
    "T = np.cov(all_vals.T)"
   ]
  },
  {
   "cell_type": "code",
   "execution_count": 11,
   "id": "eaa738b9-3a6a-4e22-8177-68a7a2c5c75f",
   "metadata": {},
   "outputs": [],
   "source": [
    "B = T - W"
   ]
  },
  {
   "cell_type": "code",
   "execution_count": 12,
   "id": "c4aea72d-a84b-4eb3-ae9b-bcf74831a71f",
   "metadata": {},
   "outputs": [],
   "source": [
    "S = inv(W) @ B"
   ]
  },
  {
   "cell_type": "code",
   "execution_count": 13,
   "id": "d0f25880-087f-4b16-944b-8d4e59374b56",
   "metadata": {},
   "outputs": [],
   "source": [
    "vals, vecs = eig(S)"
   ]
  },
  {
   "cell_type": "code",
   "execution_count": 14,
   "id": "200c5319-ff3c-4803-be46-e5d198d22ea1",
   "metadata": {},
   "outputs": [],
   "source": [
    "idx = np.argsort(vals)[::-1]\n",
    "eigvals = vals[idx]\n",
    "eigvecs = vecs[:,idx]"
   ]
  },
  {
   "cell_type": "code",
   "execution_count": 15,
   "id": "10f06d06-6651-4308-a2a9-9d57e512c93b",
   "metadata": {},
   "outputs": [],
   "source": [
    "LD1 = eigvecs[:,0] # First linear discriminant\n",
    "LD2 = eigvecs[:,1]"
   ]
  },
  {
   "cell_type": "code",
   "execution_count": 16,
   "id": "1aa98d8e-2e04-4020-a0b5-21e92c71f6ff",
   "metadata": {},
   "outputs": [
    {
     "name": "stdout",
     "output_type": "stream",
     "text": [
      "Eigenvalues: [44.40127075 -0.2       ]\n",
      "LD1 (coefficients for CRP, Temp): [0.28016207 0.95995271]\n",
      "LD2: [-0.02520938  0.99968219]\n"
     ]
    }
   ],
   "source": [
    "print(\"Eigenvalues:\", eigvals)\n",
    "print(\"LD1 (coefficients for CRP, Temp):\", LD1)\n",
    "print(\"LD2:\", LD2)"
   ]
  },
  {
   "cell_type": "code",
   "execution_count": 17,
   "id": "3c0100aa-fed0-4daa-a02b-4e14e22ceb32",
   "metadata": {},
   "outputs": [],
   "source": [
    "data['LD1_score'] = data[['CRP','Temp']].to_numpy() @ LD1"
   ]
  },
  {
   "cell_type": "code",
   "execution_count": 18,
   "id": "324d222a-397d-4350-87e8-e257c244f7f7",
   "metadata": {},
   "outputs": [],
   "source": [
    "centroids = data.groupby('infection')['LD1_score'].mean()"
   ]
  },
  {
   "cell_type": "code",
   "execution_count": 19,
   "id": "21b41b5c-ddff-4821-a1f4-c1b5e9a7b523",
   "metadata": {},
   "outputs": [],
   "source": [
    "cov_matrix = np.cov(all_vals.T)\n",
    "pca_vals, pca_vecs = eig(cov_matrix)\n",
    "pca_idx = np.argsort(pca_vals)[::-1]\n",
    "PC1 = pca_vecs[:,pca_idx[0]]\n",
    "data['PC1_score'] = all_vals @ PC1"
   ]
  },
  {
   "cell_type": "code",
   "execution_count": 20,
   "id": "ee4b7661-0516-404c-ab5d-2161839e6a72",
   "metadata": {},
   "outputs": [
    {
     "name": "stdout",
     "output_type": "stream",
     "text": [
      "\n",
      "Final Table:\n",
      "   infection  CRP  Temp      zCRP     zTemp  LD1_score   PC1_score\n",
      "0      viral   20  37.2 -1.022323 -1.175454  41.313482   20.920488\n",
      "1      viral   25  37.5 -0.904363 -0.910977  43.002279   25.926410\n",
      "2      viral   30  38.0 -0.786403 -0.470182  44.883065   30.937314\n",
      "3  bacterial  100  39.0  0.865043  0.411409  65.454363  100.940502\n",
      "4  bacterial  110  39.5  1.100964  0.852204  68.735960  110.949854\n",
      "5  bacterial   95  40.0  0.747083  1.293000  65.013505   95.966965\n"
     ]
    }
   ],
   "source": [
    "final = data[['infection','CRP','Temp','zCRP','zTemp','LD1_score','PC1_score']]\n",
    "print(\"\\nFinal Table:\")\n",
    "print(final)"
   ]
  },
  {
   "cell_type": "code",
   "execution_count": 21,
   "id": "7c00d158-b608-41f8-ac2b-a6dc51acb6d2",
   "metadata": {},
   "outputs": [
    {
     "name": "stdout",
     "output_type": "stream",
     "text": [
      "\n",
      "Centroid Scores (group means of LD1):\n",
      "infection\n",
      "bacterial    66.401276\n",
      "viral        43.066275\n",
      "Name: LD1_score, dtype: float64\n"
     ]
    }
   ],
   "source": [
    "print(\"\\nCentroid Scores (group means of LD1):\")\n",
    "print(centroids)"
   ]
  },
  {
   "cell_type": "code",
   "execution_count": null,
   "id": "7ea34a63-6a3c-4727-bd38-f9ced7af9bc0",
   "metadata": {},
   "outputs": [],
   "source": []
  }
 ],
 "metadata": {
  "kernelspec": {
   "display_name": "Python [conda env:base] *",
   "language": "python",
   "name": "conda-base-py"
  },
  "language_info": {
   "codemirror_mode": {
    "name": "ipython",
    "version": 3
   },
   "file_extension": ".py",
   "mimetype": "text/x-python",
   "name": "python",
   "nbconvert_exporter": "python",
   "pygments_lexer": "ipython3",
   "version": "3.13.5"
  }
 },
 "nbformat": 4,
 "nbformat_minor": 5
}
