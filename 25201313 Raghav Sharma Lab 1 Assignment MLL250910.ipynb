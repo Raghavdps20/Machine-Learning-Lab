{
 "cells": [
  {
   "cell_type": "code",
   "execution_count": 1,
   "id": "2886bf63-4797-45ee-abfd-18da1c348bf2",
   "metadata": {},
   "outputs": [],
   "source": [
    "import numpy as np\n",
    "from sklearn.linear_model import LinearRegression"
   ]
  },
  {
   "cell_type": "code",
   "execution_count": 2,
   "id": "3e351918-dda9-496f-a893-372d01c0d3eb",
   "metadata": {},
   "outputs": [],
   "source": [
    "x = np.array([0, 1, 2, 3, 3, 5, 5, 5, 6, 7, 7, 10])\n",
    "y = np.array([96, 85, 82, 74, 95, 68, 76, 84, 58, 65, 75, 50])"
   ]
  },
  {
   "cell_type": "code",
   "execution_count": 3,
   "id": "1031e8f2-6d81-4a5c-9c80-3c969872fb75",
   "metadata": {},
   "outputs": [],
   "source": [
    "n = len(x)\n",
    "sum_x = np.sum(x)\n",
    "sum_y = np.sum(y)\n",
    "sum_xy = np.sum(x * y)\n",
    "sum_x2 = np.sum(x**2)"
   ]
  },
  {
   "cell_type": "code",
   "execution_count": 4,
   "id": "8796cfdf-d106-4dee-b42d-a58b61cdc48c",
   "metadata": {},
   "outputs": [],
   "source": [
    "b = (n * sum_xy - sum_x * sum_y) / (n * sum_x2 - sum_x**2)\n",
    "a = (sum_y - b * sum_x) / n"
   ]
  },
  {
   "cell_type": "code",
   "execution_count": 5,
   "id": "2f8a4dd3-5301-40fa-b0e3-5589f0579868",
   "metadata": {},
   "outputs": [
    {
     "name": "stdout",
     "output_type": "stream",
     "text": [
      "Regression Equation: y = 93.97 + -4.07x\n"
     ]
    }
   ],
   "source": [
    "print(f\"Regression Equation: y = {a:.2f} + {b:.2f}x\")"
   ]
  },
  {
   "cell_type": "code",
   "execution_count": 6,
   "id": "fa845283-06e4-4375-aa19-a571ac3c7c33",
   "metadata": {},
   "outputs": [
    {
     "name": "stdin",
     "output_type": "stream",
     "text": [
      "Enter the number of hours of watching TV on Sunday :  9.5\n"
     ]
    }
   ],
   "source": [
    "hours = float(input(\"Enter the number of hours of watching TV on Sunday : \"))"
   ]
  },
  {
   "cell_type": "code",
   "execution_count": 7,
   "id": "adc6dbee-daa1-421a-a548-b27c9b2b6378",
   "metadata": {},
   "outputs": [
    {
     "name": "stdout",
     "output_type": "stream",
     "text": [
      "The possible marks is 55.30499999999999\n"
     ]
    }
   ],
   "source": [
    "print(f\"The possible marks is {93.97 + -4.07 * hours}\")"
   ]
  },
  {
   "cell_type": "code",
   "execution_count": null,
   "id": "88ddcff8-8e49-42a3-ad34-e20276aeb746",
   "metadata": {},
   "outputs": [],
   "source": []
  },
  {
   "cell_type": "code",
   "execution_count": null,
   "id": "d4b43fe9-7eae-424c-8667-5e4b59f40821",
   "metadata": {},
   "outputs": [],
   "source": []
  },
  {
   "cell_type": "code",
   "execution_count": null,
   "id": "e0597742-0054-42f6-8e20-fdc834386379",
   "metadata": {},
   "outputs": [],
   "source": []
  },
  {
   "cell_type": "code",
   "execution_count": null,
   "id": "01afcf2d-3d4f-4edf-88ef-1c1a77a6f39b",
   "metadata": {},
   "outputs": [],
   "source": []
  },
  {
   "cell_type": "code",
   "execution_count": null,
   "id": "d15004c7-57a6-4d45-891f-23ce5cf1b78f",
   "metadata": {},
   "outputs": [],
   "source": []
  },
  {
   "cell_type": "code",
   "execution_count": null,
   "id": "80a5b194-5073-449a-b6ef-949a9ed12292",
   "metadata": {},
   "outputs": [],
   "source": []
  }
 ],
 "metadata": {
  "kernelspec": {
   "display_name": "Python [conda env:base] *",
   "language": "python",
   "name": "conda-base-py"
  },
  "language_info": {
   "codemirror_mode": {
    "name": "ipython",
    "version": 3
   },
   "file_extension": ".py",
   "mimetype": "text/x-python",
   "name": "python",
   "nbconvert_exporter": "python",
   "pygments_lexer": "ipython3",
   "version": "3.13.5"
  }
 },
 "nbformat": 4,
 "nbformat_minor": 5
}
