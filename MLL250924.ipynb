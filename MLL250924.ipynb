{
 "cells": [
  {
   "cell_type": "code",
   "execution_count": 1,
   "id": "2555ab87-067d-417c-a583-faeac348b933",
   "metadata": {},
   "outputs": [],
   "source": [
    "import numpy as np"
   ]
  },
  {
   "cell_type": "code",
   "execution_count": 2,
   "id": "1c6389bd-8080-4f1c-8e94-329899fa2e25",
   "metadata": {},
   "outputs": [],
   "source": [
    "def sigmoid(z):\n",
    "    return 1.0 / (1.0 + np.exp(-z))"
   ]
  },
  {
   "cell_type": "code",
   "execution_count": 3,
   "id": "e117f27b-479f-4b78-a962-34e5e81e19e7",
   "metadata": {},
   "outputs": [],
   "source": [
    "def calculate_gradient(theta, X, y):\n",
    "    m = y.size #number of instances\n",
    "    return (X.T @ (sigmoid(X @ theta) - y)) / m"
   ]
  },
  {
   "cell_type": "code",
   "execution_count": 4,
   "id": "5ad03752-074c-471f-a5c1-a4dfff580478",
   "metadata": {},
   "outputs": [],
   "source": [
    "def gradient_descent(X, y, alpha=0.1, num_iter=100, tol=1e-7):\n",
    "    X_b = np.c_[np.ones((X.shape[0], 1)), X]\n",
    "    theta = np.zeros(X_b.shape[1])\n",
    "\n",
    "    for i in range(num_iter):\n",
    "        grad = calculate_gradient(theta, X_b, y)\n",
    "        theta -= alpha * grad\n",
    "\n",
    "        if np.linalg.norm(grad) < tol:\n",
    "            break\n",
    "\n",
    "    return theta\n",
    "\n",
    "    "
   ]
  },
  {
   "cell_type": "code",
   "execution_count": 5,
   "id": "d7b86de5-20d5-4b76-b268-6771e86fb88f",
   "metadata": {},
   "outputs": [],
   "source": [
    "def predict_proba(X, theta) :\n",
    "    X_b = np.c_[np.ones((X.shape[0], 1)), X]\n",
    "    return sigmoid(X_b @ theta)"
   ]
  },
  {
   "cell_type": "code",
   "execution_count": 6,
   "id": "05fad57e-8052-49bf-99f4-53831dc8c129",
   "metadata": {},
   "outputs": [],
   "source": [
    "def predict(X, theta, threshold=0.5) :\n",
    "    return (predict_proba(X, theta) >= threshold).astype(int)"
   ]
  },
  {
   "cell_type": "code",
   "execution_count": 7,
   "id": "f196d04e-df40-42b8-974d-5affb9f7ca7e",
   "metadata": {},
   "outputs": [],
   "source": [
    "from sklearn.datasets import load_breast_cancer\n",
    "from sklearn.preprocessing import StandardScaler\n",
    "from sklearn.model_selection import train_test_split\n",
    "from sklearn.metrics import accuracy_score"
   ]
  },
  {
   "cell_type": "code",
   "execution_count": 8,
   "id": "af950756-ca7d-4db1-b46e-adcaf91a3e5a",
   "metadata": {},
   "outputs": [],
   "source": [
    "X, y = load_breast_cancer(return_X_y=True)\n",
    "X_train, X_test, y_train, y_test = train_test_split(X, y, test_size=0.2)\n"
   ]
  },
  {
   "cell_type": "code",
   "execution_count": 9,
   "id": "b992aa43-424f-4ce7-a67b-f67cf0471a5b",
   "metadata": {},
   "outputs": [],
   "source": [
    "scaler = StandardScaler()"
   ]
  },
  {
   "cell_type": "code",
   "execution_count": 10,
   "id": "3544e630-a22e-4248-8ddb-337ed99667b0",
   "metadata": {},
   "outputs": [],
   "source": [
    "X_train_scaled = scaler.fit_transform(X_train)\n",
    "X_test_scaled = scaler.transform(X_test)"
   ]
  },
  {
   "cell_type": "code",
   "execution_count": 11,
   "id": "5f8a0edc-310b-490a-b6b3-2f99b4a91e79",
   "metadata": {},
   "outputs": [],
   "source": [
    "theta_hat = gradient_descent(X_train_scaled, y_train, alpha=0.1)"
   ]
  },
  {
   "cell_type": "code",
   "execution_count": 12,
   "id": "1c093f0b-1094-4a04-818a-8e9f1d7b24c1",
   "metadata": {},
   "outputs": [],
   "source": [
    "y_pred_train = predict(X_train_scaled, theta_hat)\n",
    "y_pred_test = predict(X_test_scaled, theta_hat)"
   ]
  },
  {
   "cell_type": "code",
   "execution_count": 13,
   "id": "4ec5a23e-31ac-4754-a962-0e8a0ee3210b",
   "metadata": {},
   "outputs": [],
   "source": [
    "train_acc = accuracy_score(y_train, y_pred_train)\n",
    "test_acc = accuracy_score(y_test, y_pred_test)"
   ]
  },
  {
   "cell_type": "code",
   "execution_count": 14,
   "id": "f8c40d08-6fbf-4078-97d6-bb9ed7826374",
   "metadata": {},
   "outputs": [
    {
     "name": "stdout",
     "output_type": "stream",
     "text": [
      "0.9846153846153847\n"
     ]
    }
   ],
   "source": [
    "print(train_acc)"
   ]
  },
  {
   "cell_type": "code",
   "execution_count": 15,
   "id": "808a3cf1-501c-421f-a48a-67c32ad11e06",
   "metadata": {},
   "outputs": [
    {
     "name": "stdout",
     "output_type": "stream",
     "text": [
      "0.9736842105263158\n"
     ]
    }
   ],
   "source": [
    "print(test_acc)"
   ]
  },
  {
   "cell_type": "code",
   "execution_count": null,
   "id": "73ccfcb3-5249-42a0-8899-e5f273f7541c",
   "metadata": {},
   "outputs": [],
   "source": []
  },
  {
   "cell_type": "code",
   "execution_count": null,
   "id": "6962f88b-715e-451d-89cd-9e1ca1135590",
   "metadata": {},
   "outputs": [],
   "source": []
  },
  {
   "cell_type": "code",
   "execution_count": null,
   "id": "2dd6d9d2-4ce1-43f2-a5b6-77c3c0de497d",
   "metadata": {},
   "outputs": [],
   "source": []
  },
  {
   "cell_type": "code",
   "execution_count": null,
   "id": "6a24d914-19a7-4fea-a705-4c42f51db1a2",
   "metadata": {},
   "outputs": [],
   "source": []
  },
  {
   "cell_type": "code",
   "execution_count": null,
   "id": "726f21b3-3587-4c43-b4b1-866b05b92a0d",
   "metadata": {},
   "outputs": [],
   "source": []
  },
  {
   "cell_type": "code",
   "execution_count": null,
   "id": "1d57affb-5c38-49d5-b2dd-4cd219754e10",
   "metadata": {},
   "outputs": [],
   "source": []
  },
  {
   "cell_type": "code",
   "execution_count": null,
   "id": "e31a1e42-f5e8-47d3-9e5a-ff7bae34398f",
   "metadata": {},
   "outputs": [],
   "source": []
  },
  {
   "cell_type": "code",
   "execution_count": null,
   "id": "d0d67eae-9562-43f5-8301-7fe257902150",
   "metadata": {},
   "outputs": [],
   "source": []
  },
  {
   "cell_type": "code",
   "execution_count": null,
   "id": "c50933c8-6b4e-448c-ab76-c4c895139a60",
   "metadata": {},
   "outputs": [],
   "source": []
  },
  {
   "cell_type": "code",
   "execution_count": null,
   "id": "473674a2-4bef-4173-9898-11a8c105da3e",
   "metadata": {},
   "outputs": [],
   "source": []
  }
 ],
 "metadata": {
  "kernelspec": {
   "display_name": "Python [conda env:base] *",
   "language": "python",
   "name": "conda-base-py"
  },
  "language_info": {
   "codemirror_mode": {
    "name": "ipython",
    "version": 3
   },
   "file_extension": ".py",
   "mimetype": "text/x-python",
   "name": "python",
   "nbconvert_exporter": "python",
   "pygments_lexer": "ipython3",
   "version": "3.13.5"
  }
 },
 "nbformat": 4,
 "nbformat_minor": 5
}
